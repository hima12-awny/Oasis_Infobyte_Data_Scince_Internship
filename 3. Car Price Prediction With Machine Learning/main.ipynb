{
 "cells": [
  {
   "cell_type": "code",
   "execution_count": 5,
   "metadata": {},
   "outputs": [],
   "source": [
    "import pandas as pd\n",
    "from sklearn.model_selection import train_test_split\n",
    "import matplotlib.pyplot as plt\n",
    "import seaborn as sns\n",
    "import warnings\n",
    "warnings.filterwarnings(\"ignore\")"
   ]
  },
  {
   "cell_type": "code",
   "execution_count": 6,
   "metadata": {},
   "outputs": [
    {
     "data": {
      "text/plain": [
       "Index(['car_ID', 'symboling', 'CarName', 'fueltype', 'aspiration',\n",
       "       'doornumber', 'carbody', 'drivewheel', 'enginelocation', 'wheelbase',\n",
       "       'carlength', 'carwidth', 'carheight', 'curbweight', 'enginetype',\n",
       "       'cylindernumber', 'enginesize', 'fuelsystem', 'boreratio', 'stroke',\n",
       "       'compressionratio', 'horsepower', 'peakrpm', 'citympg', 'highwaympg',\n",
       "       'price'],\n",
       "      dtype='object')"
      ]
     },
     "execution_count": 6,
     "metadata": {},
     "output_type": "execute_result"
    }
   ],
   "source": [
    "df = pd.read_csv('CarPrice_Assignment.csv')\n",
    "df.columns"
   ]
  },
  {
   "cell_type": "code",
   "execution_count": 7,
   "metadata": {},
   "outputs": [
    {
     "data": {
      "text/plain": [
       "highwaympg         -0.697599\n",
       "citympg            -0.685751\n",
       "car_ID             -0.109093\n",
       "peakrpm            -0.085267\n",
       "symboling          -0.079978\n",
       "compressionratio    0.067984\n",
       "stroke              0.079443\n",
       "carheight           0.119336\n",
       "boreratio           0.553173\n",
       "wheelbase           0.577816\n",
       "carlength           0.682920\n",
       "carwidth            0.759325\n",
       "horsepower          0.808139\n",
       "curbweight          0.835305\n",
       "enginesize          0.874145\n",
       "price               1.000000\n",
       "Name: price, dtype: float64"
      ]
     },
     "execution_count": 7,
     "metadata": {},
     "output_type": "execute_result"
    }
   ],
   "source": [
    "df.corr()['price'].sort_values()"
   ]
  },
  {
   "cell_type": "code",
   "execution_count": 8,
   "metadata": {},
   "outputs": [
    {
     "data": {
      "text/plain": [
       "Index(['highwaympg', 'citympg', 'carwidth', 'horsepower', 'curbweight',\n",
       "       'enginesize', 'price'],\n",
       "      dtype='object')"
      ]
     },
     "execution_count": 8,
     "metadata": {},
     "output_type": "execute_result"
    }
   ],
   "source": [
    "cols = df.corr()['price'].sort_values()[(df.corr()['price'].sort_values() >\n",
    "                                         0.759325) | (df.corr()['price'].sort_values() < -0.685751)].index\n",
    "cols"
   ]
  },
  {
   "cell_type": "code",
   "execution_count": 9,
   "metadata": {},
   "outputs": [],
   "source": [
    "add = [\n",
    "    'compressionratio',\n",
    "    'fueltype',\n",
    "    'aspiration',\n",
    "    'cylindernumber',\n",
    "    'drivewheel',\n",
    "\n",
    "]\n",
    "for i in add:\n",
    "    cols = cols.insert(0, i)"
   ]
  },
  {
   "cell_type": "code",
   "execution_count": 10,
   "metadata": {},
   "outputs": [],
   "source": [
    "df = df[cols]"
   ]
  },
  {
   "cell_type": "code",
   "execution_count": 11,
   "metadata": {},
   "outputs": [],
   "source": [
    "from sklearn.preprocessing import MinMaxScaler, OrdinalEncoder\n",
    "from sklearn.compose import ColumnTransformer\n",
    "\n",
    "\n",
    "y = df.iloc[:, -1]\n",
    "df.drop('price', axis=1, inplace=True)\n",
    "\n",
    "numberCols = df.select_dtypes(include='number').columns.to_list()\n",
    "objectCols = df.select_dtypes(include='object').columns.to_list()\n",
    "\n",
    "scaler = MinMaxScaler()\n",
    "encoder = OrdinalEncoder()\n",
    "\n",
    "final_pipe = ColumnTransformer([\n",
    "    ('num', scaler, numberCols),\n",
    "    ('cat', encoder, objectCols)\n",
    "])\n",
    "\n",
    "X = final_pipe.fit_transform(df)\n",
    "y = scaler.fit_transform(y.to_numpy().reshape(-1, 1))"
   ]
  },
  {
   "cell_type": "code",
   "execution_count": 12,
   "metadata": {},
   "outputs": [],
   "source": [
    "x_train, x_test, y_train, y_test = train_test_split(X, y, random_state=42)"
   ]
  },
  {
   "cell_type": "code",
   "execution_count": 13,
   "metadata": {},
   "outputs": [
    {
     "name": "stdout",
     "output_type": "stream",
     "text": [
      "Linear Regression: 78.430%\n",
      "Random Forest: 94.476%\n",
      "Gradient Boosting: 91.374%\n",
      "DecisionTreeRegressor: 87.237%\n"
     ]
    }
   ],
   "source": [
    "from sklearn.linear_model import LinearRegression\n",
    "from sklearn.ensemble import RandomForestRegressor, GradientBoostingRegressor\n",
    "from sklearn.tree import DecisionTreeRegressor\n",
    "\n",
    "\n",
    "# Create a dictionary to store the regression models\n",
    "car_price_models = {\n",
    "    'Linear Regression': LinearRegression(),\n",
    "    'Random Forest': RandomForestRegressor(random_state=42),\n",
    "    'Gradient Boosting': GradientBoostingRegressor(),\n",
    "    'DecisionTreeRegressor': DecisionTreeRegressor()\n",
    "}\n",
    "\n",
    "for name, model in car_price_models.items():\n",
    "    model.fit(x_train, y_train)\n",
    "    score = model.score(x_test, y_test)\n",
    "\n",
    "    print(f'{name}: {score*100:.3f}%')"
   ]
  },
  {
   "cell_type": "markdown",
   "metadata": {},
   "source": [
    "so i choose Random Forest with 94.48% score.\n"
   ]
  },
  {
   "cell_type": "code",
   "execution_count": 14,
   "metadata": {},
   "outputs": [
    {
     "name": "stdout",
     "output_type": "stream",
     "text": [
      "score 94.48%\n"
     ]
    }
   ],
   "source": [
    "model = RandomForestRegressor(random_state=42)\n",
    "model.fit(x_train, y_train)\n",
    "print(f'score {model.score(x_test, y_test)*100:.2f}%')"
   ]
  }
 ],
 "metadata": {
  "kernelspec": {
   "display_name": "Python 3",
   "language": "python",
   "name": "python3"
  },
  "language_info": {
   "codemirror_mode": {
    "name": "ipython",
    "version": 3
   },
   "file_extension": ".py",
   "mimetype": "text/x-python",
   "name": "python",
   "nbconvert_exporter": "python",
   "pygments_lexer": "ipython3",
   "version": "3.11.0"
  },
  "orig_nbformat": 4
 },
 "nbformat": 4,
 "nbformat_minor": 2
}
